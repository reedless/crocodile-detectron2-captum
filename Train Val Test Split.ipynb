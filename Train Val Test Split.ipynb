{
 "cells": [
  {
   "cell_type": "markdown",
   "id": "f49df6ec",
   "metadata": {},
   "source": [
    "## Select images"
   ]
  },
  {
   "cell_type": "code",
   "execution_count": 4,
   "id": "c5b28ddb",
   "metadata": {
    "scrolled": false
   },
   "outputs": [],
   "source": [
    "import json\n",
    "import os\n",
    "\n",
    "with open('assets/crocodile_FRCNN_data_snapshot.txt') as f:\n",
    "    data = json.load(f)"
   ]
  },
  {
   "cell_type": "code",
   "execution_count": 5,
   "id": "e022f673",
   "metadata": {
    "scrolled": false
   },
   "outputs": [],
   "source": [
    "train_imgs = [img['original_name'] for img in data['resource']['images'] if img['purpose'] == 'train']\n",
    "val_imgs = [img['original_name'] for img in data['resource']['images'] if img['purpose'] == 'validate']"
   ]
  },
  {
   "cell_type": "code",
   "execution_count": 6,
   "id": "2343126d",
   "metadata": {},
   "outputs": [
    {
     "data": {
      "text/plain": [
       "['swamp', 'land', 'closeups', 'night']"
      ]
     },
     "execution_count": 6,
     "metadata": {},
     "output_type": "execute_result"
    }
   ],
   "source": [
    "os.listdir('dataset')"
   ]
  },
  {
   "cell_type": "code",
   "execution_count": 38,
   "id": "f19ad6c5",
   "metadata": {
    "scrolled": false
   },
   "outputs": [
    {
     "data": {
      "text/plain": [
       "78"
      ]
     },
     "execution_count": 38,
     "metadata": {},
     "output_type": "execute_result"
    }
   ],
   "source": [
    "import random\n",
    "\n",
    "random.seed(42)\n",
    "\n",
    "selected_imgs = {}\n",
    "\n",
    "for key in sorted(os.listdir('dataset')):\n",
    "    selected_imgs[key] = {'train': [], 'val': [], 'test': []}\n",
    "    \n",
    "    key_imgs = sorted([f for f in os.listdir(f'dataset/{key}') if f[-4:] == '.jpg'])\n",
    "    random.shuffle(key_imgs)\n",
    "    \n",
    "    for img in key_imgs:\n",
    "        if img[:-4] in train_imgs:\n",
    "            selected_imgs[key]['train'].append(img)\n",
    "        elif img[:-4] in val_imgs:\n",
    "            selected_imgs[key]['val'].append(img)\n",
    "        else:\n",
    "            selected_imgs[key]['test'].append(img)\n",
    "    \n",
    "len(selected_imgs['swamp']['val'])"
   ]
  },
  {
   "cell_type": "code",
   "execution_count": 40,
   "id": "68fad905",
   "metadata": {},
   "outputs": [],
   "source": [
    "import pickle\n",
    "\n",
    "with open('split_imgs.pkl', 'wb') as f:\n",
    "    pickle.dump(selected_imgs, f)"
   ]
  },
  {
   "cell_type": "code",
   "execution_count": null,
   "id": "ee452ca4",
   "metadata": {},
   "outputs": [],
   "source": []
  },
  {
   "cell_type": "code",
   "execution_count": null,
   "id": "d5c719d2",
   "metadata": {},
   "outputs": [],
   "source": []
  },
  {
   "cell_type": "code",
   "execution_count": null,
   "id": "f7a181f4",
   "metadata": {},
   "outputs": [],
   "source": []
  }
 ],
 "metadata": {
  "kernelspec": {
   "display_name": "captum",
   "language": "python",
   "name": "captum"
  },
  "language_info": {
   "codemirror_mode": {
    "name": "ipython",
    "version": 3
   },
   "file_extension": ".py",
   "mimetype": "text/x-python",
   "name": "python",
   "nbconvert_exporter": "python",
   "pygments_lexer": "ipython3",
   "version": "3.8.10"
  }
 },
 "nbformat": 4,
 "nbformat_minor": 5
}
