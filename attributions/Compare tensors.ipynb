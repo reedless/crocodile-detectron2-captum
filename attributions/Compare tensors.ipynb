{
 "cells": [
  {
   "cell_type": "code",
   "execution_count": 58,
   "id": "fa43afd7",
   "metadata": {},
   "outputs": [],
   "source": [
    "import os \n",
    "\n",
    "epochs = [20, 50, 100]"
   ]
  },
  {
   "cell_type": "code",
   "execution_count": 59,
   "id": "d0077638",
   "metadata": {},
   "outputs": [
    {
     "data": {
      "text/plain": [
       "['Deconvolution_attributions.pt',\n",
       " 'DeepLiftShap_attributions.pt',\n",
       " 'InputXGradient_attributions.pt',\n",
       " 'IG_attributions.pt',\n",
       " 'Saliency_attributions.pt',\n",
       " 'DeepLift_attributions.pt',\n",
       " 'GuidedBackprop_attributions.pt',\n",
       " 'GradientShap_attributions.pt']"
      ]
     },
     "execution_count": 59,
     "metadata": {},
     "output_type": "execute_result"
    }
   ],
   "source": [
    "os.listdir('20/')"
   ]
  },
  {
   "cell_type": "code",
   "execution_count": 63,
   "id": "a3e47556",
   "metadata": {},
   "outputs": [],
   "source": [
    "import torch\n",
    "\n",
    "def load_attrs(epoch):\n",
    "    ig = torch.load(f'{epoch}/IG_attributions.pt')\n",
    "    gs = torch.load(f'{epoch}/GradientShap_attributions.pt')\n",
    "    \n",
    "    dl = torch.load(f'{epoch}/DeepLift_attributions.pt')\n",
    "    dls = torch.load(f'{epoch}/DeepLiftShap_attributions.pt')\n",
    "    \n",
    "    s = torch.load(f'{epoch}/Saliency_attributions.pt')\n",
    "    ixg = torch.load(f'{epoch}/InputXGradient_attributions.pt')\n",
    "    \n",
    "    dc = torch.load(f'{epoch}/Deconvolution_attributions.pt')\n",
    "    gbp = torch.load(f'{epoch}/GuidedBackprop_attributions.pt')\n",
    "\n",
    "    return [ig, gs, dl, dls, dc, ixg, s, gbp]"
   ]
  },
  {
   "cell_type": "code",
   "execution_count": 64,
   "id": "2e745c72",
   "metadata": {},
   "outputs": [],
   "source": [
    "import numpy as np\n",
    "\n",
    "def process_attr(attributions):\n",
    "    # C, H, W -> H, W, C\n",
    "    attributions = attributions[0].permute(1,2,0).detach().cpu().numpy()\n",
    "\n",
    "    # flattern to 1D\n",
    "    attributions = np.sum(np.abs(attributions), axis=-1)\n",
    "\n",
    "    # normalise attributions to [0,1]\n",
    "    attributions -= np.min(attributions)\n",
    "    attributions /= np.max(attributions)\n",
    "\n",
    "    return attributions"
   ]
  },
  {
   "cell_type": "code",
   "execution_count": 77,
   "id": "eb8c2d9c",
   "metadata": {},
   "outputs": [],
   "source": [
    "from sklearn.metrics.pairwise import cosine_similarity\n",
    "import matplotlib.pyplot as plt\n",
    "\n",
    "def sim_mat_show(processed_attrs):\n",
    "    fig = plt.figure()\n",
    "    ax = fig.add_subplot(1, 1, 1)\n",
    "    im = ax.imshow(cosine_similarity(np.stack(processed_attrs)), cmap='Purples', vmin=0.0, vmax=1.0)\n",
    "    labels = ['IG', 'GS', 'DL', 'DLS', 'DeC', 'IxG', 'Sal', 'GBp']\n",
    "    ax.set_xticks(np.arange(len(labels)), labels=labels)\n",
    "    ax.set_yticks(np.arange(len(labels)), labels=labels)\n",
    "    ax.xaxis.set_ticks_position(\"top\")\n",
    "    fig.colorbar(im)\n",
    "    plt.show()"
   ]
  },
  {
   "cell_type": "code",
   "execution_count": 101,
   "id": "df3ae874",
   "metadata": {},
   "outputs": [],
   "source": [
    "average_mat = np.zeros((len(epochs), len(attrs) + 1))\n",
    "\n",
    "for i in range(len(epochs)):\n",
    "    epoch = epochs[i]\n",
    "    attrs = load_attrs(epoch)\n",
    "    processed_attrs = [process_attr(attr).reshape((-1)) for attr in attrs]\n",
    "    sim_mat = cosine_similarity(np.stack(processed_attrs))\n",
    "    average_mat[i][0] = (np.sum(sim_mat) - len(attrs))/ (len(attrs)**2 - len(attrs))\n",
    "    for j in range(len(sim_mat)):\n",
    "        average_mat[i][j+1] = ((np.sum(sim_mat[j]) - 1)/7)\n",
    "#     sim_mat_show(processed_attrs)"
   ]
  },
  {
   "cell_type": "code",
   "execution_count": 102,
   "id": "15c6343c",
   "metadata": {},
   "outputs": [
    {
     "data": {
      "text/plain": [
       "array([[0.6354527 , 0.59096061, 0.37025617, 0.69626352, 0.69628265,\n",
       "        0.66582224, 0.71795841, 0.68778398, 0.65829403],\n",
       "       [0.6181522 , 0.48209164, 0.58484132, 0.65196755, 0.66643978,\n",
       "        0.64314616, 0.66454294, 0.59497661, 0.65721164],\n",
       "       [0.71599365, 0.50921444, 0.76295879, 0.76040223, 0.76015682,\n",
       "        0.73397808, 0.78376035, 0.72912058, 0.6883579 ]])"
      ]
     },
     "execution_count": 102,
     "metadata": {},
     "output_type": "execute_result"
    }
   ],
   "source": [
    "average_mat"
   ]
  },
  {
   "cell_type": "code",
   "execution_count": 104,
   "id": "b39502d5",
   "metadata": {},
   "outputs": [
    {
     "data": {
      "image/png": "[encoded data removed]",
      "text/plain": [
       "<Figure size 432x288 with 1 Axes>"
      ]
     },
     "metadata": {
      "needs_background": "light"
     },
     "output_type": "display_data"
    }
   ],
   "source": [
    "for i in range(len(average_mat[0])):\n",
    "    plt.plot(np.arange(len(epochs)), average_mat[:,i])"
   ]
  },
  {
   "cell_type": "code",
   "execution_count": null,
   "id": "1ec8433b",
   "metadata": {},
   "outputs": [],
   "source": []
  },
  {
   "cell_type": "code",
   "execution_count": null,
   "id": "1897617c",
   "metadata": {},
   "outputs": [],
   "source": []
  }
 ],
 "metadata": {
  "kernelspec": {
   "display_name": "captum-vas",
   "language": "python",
   "name": "captum-vas"
  },
  "language_info": {
   "codemirror_mode": {
    "name": "ipython",
    "version": 3
   },
   "file_extension": ".py",
   "mimetype": "text/x-python",
   "name": "python",
   "nbconvert_exporter": "python",
   "pygments_lexer": "ipython3",
   "version": "3.8.10"
  }
 },
 "nbformat": 4,
 "nbformat_minor": 5
}
